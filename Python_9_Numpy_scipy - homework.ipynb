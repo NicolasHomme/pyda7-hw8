{
 "cells": [
  {
   "cell_type": "markdown",
   "metadata": {},
   "source": [
    "## Домашнее задание к лекции \"Библиотека numpy. Вычислительные задачи\"\n",
    "\n",
    "### Задание 1\n",
    "Создайте numpy array с элементами от числа N до 0 (например, для N = 10 это будет array([9, 8, 7, 6, 5, 4, 3, 2, 1, 0]))."
   ]
  },
  {
   "cell_type": "code",
   "execution_count": 1,
   "metadata": {},
   "outputs": [],
   "source": [
    "import numpy as np"
   ]
  },
  {
   "cell_type": "code",
   "execution_count": 18,
   "metadata": {},
   "outputs": [
    {
     "name": "stdout",
     "output_type": "stream",
     "text": [
      "[9. 8. 7. 6. 5. 4. 3. 2. 1. 0.]\n",
      "[9 8 7 6 5 4 3 2 1 0]\n"
     ]
    }
   ],
   "source": [
    "N = 10\n",
    "x = np.linspace(N-1,0,N)\n",
    "print(x)\n",
    "# или\n",
    "y = (N - 1) - np.arange(N)\n",
    "print(y)"
   ]
  },
  {
   "cell_type": "markdown",
   "metadata": {},
   "source": [
    "### Задание 2\n",
    "Создайте диагональную матрицу с элементами от N до 0. Посчитайте сумму ее значений на диагонали."
   ]
  },
  {
   "cell_type": "code",
   "execution_count": 71,
   "metadata": {},
   "outputs": [
    {
     "name": "stdout",
     "output_type": "stream",
     "text": [
      "[[9. 0. 0. 0. 0. 0. 0. 0. 0. 0.]\n",
      " [0. 8. 0. 0. 0. 0. 0. 0. 0. 0.]\n",
      " [0. 0. 7. 0. 0. 0. 0. 0. 0. 0.]\n",
      " [0. 0. 0. 6. 0. 0. 0. 0. 0. 0.]\n",
      " [0. 0. 0. 0. 5. 0. 0. 0. 0. 0.]\n",
      " [0. 0. 0. 0. 0. 4. 0. 0. 0. 0.]\n",
      " [0. 0. 0. 0. 0. 0. 3. 0. 0. 0.]\n",
      " [0. 0. 0. 0. 0. 0. 0. 2. 0. 0.]\n",
      " [0. 0. 0. 0. 0. 0. 0. 0. 1. 0.]\n",
      " [0. 0. 0. 0. 0. 0. 0. 0. 0. 0.]]\n"
     ]
    }
   ],
   "source": [
    "N = 10\n",
    "x=np.diag(np.linspace(N-1,0,N), k=0)\n",
    "print(x)"
   ]
  },
  {
   "cell_type": "code",
   "execution_count": 72,
   "metadata": {},
   "outputs": [
    {
     "name": "stdout",
     "output_type": "stream",
     "text": [
      "45.0\n"
     ]
    }
   ],
   "source": [
    "print(sum(x.diagonal()))"
   ]
  },
  {
   "cell_type": "markdown",
   "metadata": {},
   "source": [
    "### Задание 3\n",
    "Решите систему уравнений:\n",
    "\n",
    "4x + 2y + z = 4\n",
    "\n",
    "x + 3y = 12\n",
    "\n",
    "5y + 4z = -3"
   ]
  },
  {
   "cell_type": "code",
   "execution_count": 35,
   "metadata": {},
   "outputs": [],
   "source": [
    "a = np.array(\n",
    "    [\n",
    "        [4,2,1],\n",
    "        [1,3,0],\n",
    "        [0,5,4]        \n",
    "    ]\n",
    ")\n",
    "b = np.array([4,12,-3])"
   ]
  },
  {
   "cell_type": "code",
   "execution_count": 36,
   "metadata": {},
   "outputs": [
    {
     "name": "stdout",
     "output_type": "stream",
     "text": [
      "[ 0.46666667  3.84444444 -5.55555556]\n"
     ]
    },
    {
     "data": {
      "text/plain": [
       "True"
      ]
     },
     "execution_count": 36,
     "metadata": {},
     "output_type": "execute_result"
    }
   ],
   "source": [
    "answer = np.linalg.solve(a,b)\n",
    "print(answer)\n",
    "np.allclose( np.dot(a, answer), b )"
   ]
  },
  {
   "cell_type": "markdown",
   "metadata": {},
   "source": [
    "### Доп.задание\n",
    "Имеется матрица покупок в интернет-магазине. \n",
    "Матрица в виде numpy array\n",
    "На сайт заходит очередной посетитель, о покупках которого известно следующее:\n",
    "Найдите самого похожего пользователя. Т. е. посчитайте косинусное расстояние между этим пользователем и всеми пользователями из массива user_stats"
   ]
  },
  {
   "cell_type": "code",
   "execution_count": 44,
   "metadata": {},
   "outputs": [],
   "source": [
    "users_stats = np.array(\n",
    "[\n",
    "    [2, 1, 0, 0, 0, 0],\n",
    "    [1, 1, 2, 1, 0, 0],\n",
    "    [2, 0, 1, 0, 0, 0],\n",
    "    [1, 1, 2, 1, 0, 1],\n",
    "    [0, 0, 1, 2, 0, 0],\n",
    "    [0, 0, 0, 0, 0, 5],\n",
    "    [1, 0, 0, 0, 0, 0],\n",
    "    [0, 1, 1, 0, 0, 0],\n",
    "    [0, 0, 0, 1, 1, 3],\n",
    "    [1, 0, 0, 2, 1, 4]\n",
    "], np.int32\n",
    ")\n",
    "next_user_stats = np.array([0, 1, 2, 0, 0, 0])"
   ]
  },
  {
   "cell_type": "code",
   "execution_count": 45,
   "metadata": {},
   "outputs": [],
   "source": [
    "def cosine( a, b ):\n",
    "    \"\"\"\n",
    "    Подсчет косинуса угла между векторами a, b по их координатам\n",
    "    \"\"\"\n",
    "    # длины векторов\n",
    "    aLength = np.linalg.norm(a)\n",
    "    bLength = np.linalg.norm(b)\n",
    "    return np.dot( a, b ) / ( aLength * bLength )"
   ]
  },
  {
   "cell_type": "code",
   "execution_count": 58,
   "metadata": {},
   "outputs": [
    {
     "name": "stdout",
     "output_type": "stream",
     "text": [
      "{1: 0.19999999999999996, 2: 0.8451542547285165, 3: 0.3999999999999999, 4: 0.7905694150420948, 5: 0.3999999999999999, 6: 0.0, 7: 0.0, 8: 0.9486832980505138, 9: 0.0, 10: 0.0}\n"
     ]
    }
   ],
   "source": [
    "cosine_dict = {}\n",
    "user_id = 1\n",
    "for row in users_stats:\n",
    "    cosine_dict[user_id] = cosine(row,next_user_stats)\n",
    "    user_id +=1\n",
    "print(cosine_dict)"
   ]
  },
  {
   "cell_type": "code",
   "execution_count": 64,
   "metadata": {},
   "outputs": [
    {
     "name": "stdout",
     "output_type": "stream",
     "text": [
      "Для указанного пользователя самый подходящий пользователь 8 со значением косинуса 0.9486832980505138\n",
      "Пользователь совершил покупки:\n",
      "[0 1 2 0 0 0]\n",
      "Самый подходящий пользователь совершил покупки:\n",
      "[0 1 1 0 0 0]\n"
     ]
    }
   ],
   "source": [
    "cos_max, user_id = 0, 0\n",
    "for key, value in cosine_dict.items():\n",
    "    if cos_max < value:\n",
    "        cos_max = value\n",
    "        user_id = key\n",
    "print(f'Для указанного пользователя самый подходящий пользователь {user_id} со значением косинуса {cos_max}')\n",
    "print(f'Пользователь совершил покупки:\\n{next_user_stats}\\nСамый подходящий пользователь совершил покупки:\\n{users_stats[user_id-1]}')"
   ]
  },
  {
   "cell_type": "code",
   "execution_count": null,
   "metadata": {},
   "outputs": [],
   "source": []
  }
 ],
 "metadata": {
  "kernelspec": {
   "display_name": "Python 3",
   "language": "python",
   "name": "python3"
  },
  "language_info": {
   "codemirror_mode": {
    "name": "ipython",
    "version": 3
   },
   "file_extension": ".py",
   "mimetype": "text/x-python",
   "name": "python",
   "nbconvert_exporter": "python",
   "pygments_lexer": "ipython3",
   "version": "3.7.1"
  }
 },
 "nbformat": 4,
 "nbformat_minor": 2
}
